{
 "cells": [
  {
   "cell_type": "markdown",
   "id": "944ec183-e0e0-4278-a03e-33243f0ea637",
   "metadata": {},
   "source": [
    "# Get ERA5 data"
   ]
  },
  {
   "cell_type": "code",
   "execution_count": 1,
   "id": "4534c58c-810e-494c-b5d3-1597926d5fee",
   "metadata": {},
   "outputs": [],
   "source": [
    "import normet.getdata as gd"
   ]
  },
  {
   "cell_type": "code",
   "execution_count": null,
   "id": "fc55549d-83d8-4c12-a62b-ee3643e93269",
   "metadata": {},
   "outputs": [
    {
     "name": "stderr",
     "output_type": "stream",
     "text": [
      "2024-06-17 12:19:20,240 INFO Welcome to the CDS\n",
      "2024-06-17 12:19:20,242 INFO Welcome to the CDS\n",
      "2024-06-17 12:19:20,252 INFO Sending request to https://cds.climate.copernicus.eu/api/v2/resources/reanalysis-era5-single-levels\n",
      "2024-06-17 12:19:20,245 INFO Welcome to the CDS\n",
      "2024-06-17 12:19:20,246 INFO Welcome to the CDS\n",
      "2024-06-17 12:19:20,246 INFO Welcome to the CDS\n",
      "2024-06-17 12:19:20,247 INFO Welcome to the CDS\n",
      "2024-06-17 12:19:20,248 INFO Welcome to the CDS\n",
      "2024-06-17 12:19:20,249 INFO Sending request to https://cds.climate.copernicus.eu/api/v2/resources/reanalysis-era5-single-levels\n",
      "2024-06-17 12:19:20,252 INFO Welcome to the CDS\n",
      "2024-06-17 12:19:20,253 INFO Welcome to the CDS\n",
      "2024-06-17 12:19:20,243 INFO Welcome to the CDS\n",
      "2024-06-17 12:19:20,259 INFO Welcome to the CDS\n",
      "2024-06-17 12:19:20,259 INFO Welcome to the CDS\n",
      "2024-06-17 12:19:20,265 INFO Sending request to https://cds.climate.copernicus.eu/api/v2/resources/reanalysis-era5-single-levels\n",
      "2024-06-17 12:19:20,266 INFO Sending request to https://cds.climate.copernicus.eu/api/v2/resources/reanalysis-era5-single-levels\n",
      "2024-06-17 12:19:20,268 INFO Sending request to https://cds.climate.copernicus.eu/api/v2/resources/reanalysis-era5-single-levels\n",
      "2024-06-17 12:19:20,269 INFO Sending request to https://cds.climate.copernicus.eu/api/v2/resources/reanalysis-era5-single-levels\n",
      "2024-06-17 12:19:20,270 INFO Sending request to https://cds.climate.copernicus.eu/api/v2/resources/reanalysis-era5-single-levels\n",
      "2024-06-17 12:19:20,274 INFO Sending request to https://cds.climate.copernicus.eu/api/v2/resources/reanalysis-era5-single-levels\n",
      "2024-06-17 12:19:20,275 INFO Sending request to https://cds.climate.copernicus.eu/api/v2/resources/reanalysis-era5-single-levels\n",
      "2024-06-17 12:19:20,276 INFO Sending request to https://cds.climate.copernicus.eu/api/v2/resources/reanalysis-era5-single-levels\n",
      "2024-06-17 12:19:20,277 INFO Sending request to https://cds.climate.copernicus.eu/api/v2/resources/reanalysis-era5-single-levels\n",
      "2024-06-17 12:19:20,278 INFO Sending request to https://cds.climate.copernicus.eu/api/v2/resources/reanalysis-era5-single-levels\n",
      "2024-06-17 12:19:20,417 INFO Request is queued\n",
      "2024-06-17 12:19:20,418 INFO Request is queued\n",
      "2024-06-17 12:19:20,422 INFO Request is queued\n",
      "2024-06-17 12:19:20,455 INFO Request is queued\n",
      "2024-06-17 12:19:20,464 INFO Request is queued\n",
      "2024-06-17 12:19:20,476 INFO Request is queued\n",
      "2024-06-17 12:19:20,496 INFO Request is queued\n",
      "2024-06-17 12:19:20,497 INFO Request is queued\n",
      "2024-06-17 12:19:20,503 INFO Request is queued\n",
      "2024-06-17 12:19:20,503 INFO Request is queued\n",
      "2024-06-17 12:19:20,534 INFO Request is queued\n",
      "2024-06-17 12:19:20,573 INFO Request is queued\n",
      "2024-06-17 12:19:21,583 INFO Request is running\n",
      "2024-06-17 12:25:38,905 INFO Request is running\n",
      "2024-06-17 12:25:38,979 INFO Request is completed\n",
      "2024-06-17 12:25:38,980 INFO Downloading https://download-0000-clone.copernicus-climate.eu/cache-compute-0000/cache/data2/adaptor.mars.internal-1718623485.2292995-11567-14-96a2ff9f-cd7d-4b6f-b370-d6b8f629c08f.nc to ../../data/era5_data/era5_51.52253_-0.154611_2020_05.nc (123.8K)\n",
      "2024-06-17 12:25:39,411 INFO Download rate 287.1K/s                             \n",
      "2024-06-17 12:31:39,494 INFO Request is completed\n",
      "2024-06-17 12:31:39,495 INFO Downloading https://download-0004-clone.copernicus-climate.eu/cache-compute-0004/cache/data0/adaptor.mars.internal-1718623819.140856-1166-8-6d92eea6-9d1f-4386-a381-60b3ada68089.nc to ../../data/era5_data/era5_51.52253_-0.154611_2020_06.nc (119.9K)\n",
      "2024-06-17 12:31:39,519 INFO Request is running\n",
      "2024-06-17 12:31:39,823 INFO Download rate 365.7K/s                             \n",
      "2024-06-17 12:37:40,009 INFO Request is running\n",
      "2024-06-17 12:37:40,025 INFO Request is completed\n",
      "2024-06-17 12:37:40,025 INFO Downloading https://download-0011-clone.copernicus-climate.eu/cache-compute-0011/cache/data5/adaptor.mars.internal-1718624178.538383-24090-3-b5d6ff68-106f-4df1-aedf-819e0e147cb7.nc to ../../data/era5_data/era5_51.52253_-0.154611_2020_01.nc (123.8K)\n",
      "2024-06-17 12:37:40,356 INFO Download rate 375.4K/s                             \n",
      "2024-06-17 12:43:40,542 INFO Request is running\n",
      "2024-06-17 12:43:40,543 INFO Request is completed\n",
      "2024-06-17 12:43:40,549 INFO Downloading https://download-0008-clone.copernicus-climate.eu/cache-compute-0008/cache/data2/adaptor.mars.internal-1718624520.4579601-29433-9-562e2503-1691-4b3a-bf99-fa51f55f7ad2.nc to ../../data/era5_data/era5_51.52253_-0.154611_2020_04.nc (119.9K)\n",
      "2024-06-17 12:43:40,894 INFO Download rate 348.9K/s                             \n",
      "2024-06-17 12:49:42,680 INFO Request is completed\n",
      "2024-06-17 12:49:42,683 INFO Downloading https://download-0019.copernicus-climate.eu/cache-compute-0019/cache/data2/adaptor.mars.internal-1718624877.1270769-24048-16-fb8ddeac-f81a-4062-833f-3c5985ee97ec.nc to ../../data/era5_data/era5_51.52253_-0.154611_2020_07.nc (123.8K)\n",
      "2024-06-17 12:49:43,031 INFO Download rate 357.4K/s                             \n",
      "2024-06-17 12:51:42,892 INFO Request is running\n",
      "2024-06-17 12:55:43,224 INFO Request is running\n",
      "2024-06-17 12:55:43,241 INFO Request is completed\n",
      "2024-06-17 12:55:43,242 INFO Downloading https://download-0012-clone.copernicus-climate.eu/cache-compute-0012/cache/data7/adaptor.mars.internal-1718625313.8690567-7788-11-da7e5d9c-cfc0-40bb-8ffc-dd6bf9a7a590.nc to ../../data/era5_data/era5_51.52253_-0.154611_2020_12.nc (123.8K)\n",
      "2024-06-17 12:55:43,559 INFO Download rate 390.1K/s                             \n",
      "2024-06-17 12:59:43,568 INFO Request is completed\n",
      "2024-06-17 12:59:43,570 INFO Downloading https://download-0008-clone.copernicus-climate.eu/cache-compute-0008/cache/data5/adaptor.mars.internal-1718625559.2449636-18929-5-1b26dd3d-9115-4a8b-aaea-cef09fd05bbe.nc to ../../data/era5_data/era5_51.52253_-0.154611_2020_02.nc (116K)\n",
      "2024-06-17 12:59:43,621 INFO Request is running\n",
      "2024-06-17 12:59:43,888 INFO Download rate 365.4K/s                             \n",
      "2024-06-17 13:05:44,145 INFO Request is running\n",
      "2024-06-17 13:05:44,150 INFO Request is completed\n",
      "2024-06-17 13:05:44,151 INFO Downloading https://download-0001-clone.copernicus-climate.eu/cache-compute-0001/cache/data2/adaptor.mars.internal-1718625869.0479794-15165-15-f5d84693-4da0-4ce8-b175-3d7db6df8c51.nc to ../../data/era5_data/era5_51.52253_-0.154611_2020_09.nc (119.9K)\n",
      "2024-06-17 13:05:44,469 INFO Download rate 377K/s                               \n",
      "2024-06-17 13:11:44,686 INFO Request is completed\n",
      "2024-06-17 13:11:44,688 INFO Downloading https://download-0006-clone.copernicus-climate.eu/cache-compute-0006/cache/data7/adaptor.mars.internal-1718626186.7327433-19346-14-c7e32ac4-2976-47fe-ac79-c90563eaa471.nc to ../../data/era5_data/era5_51.52253_-0.154611_2020_08.nc (123.8K)\n",
      "2024-06-17 13:11:44,700 INFO Request is running\n",
      "2024-06-17 13:11:45,049 INFO Download rate 343.2K/s                             \n"
     ]
    }
   ],
   "source": [
    "gd.download_era5(lat_list = [51.522530],lon_list = [-0.154611],\n",
    "              year_range = [ '2020'],\n",
    "              path=r'../../data/era5_data/')"
   ]
  },
  {
   "cell_type": "code",
   "execution_count": null,
   "id": "f63c97f2-f172-4639-b0a8-964929b21664",
   "metadata": {},
   "outputs": [],
   "source": [
    "df=gd.era5_dataframe(lat_list = [51.522530],lon_list = [-0.154611],year_range = [ '2020'],path=r'../../data/era5_data/',n_cores=-1)"
   ]
  },
  {
   "cell_type": "code",
   "execution_count": null,
   "id": "3e3a8b23-fd6e-40e4-b407-385815a9f6ec",
   "metadata": {},
   "outputs": [],
   "source": [
    "df"
   ]
  },
  {
   "cell_type": "code",
   "execution_count": null,
   "id": "4db81482-bc3d-4559-8f7e-6590d9aca6a1",
   "metadata": {},
   "outputs": [],
   "source": [
    "df.to_csv('../../data/era5_data/MY1_era.csv')"
   ]
  },
  {
   "cell_type": "code",
   "execution_count": null,
   "id": "4d6b7af2-ab60-4a64-8842-5db8af0d5f8a",
   "metadata": {},
   "outputs": [],
   "source": [
    "gd.download_era5_area(lat_lim = [50, 53],lon_lim = [-1,1],\n",
    "              year_range = [ '2022','2023'],\n",
    "              day_range = ['01', '02', '03'],time_range = ['00:00', '01:00', '02:00'],path=r'../../data/era5_data/')"
   ]
  },
  {
   "cell_type": "code",
   "execution_count": null,
   "id": "2ce712f8-379d-4870-a579-79027443de5d",
   "metadata": {},
   "outputs": [],
   "source": [
    "df=gd.era5_area_dataframe(lat_lim = [50, 53],lon_lim = [-1,1],lat_list = [51.0, 52.0],year_range = [ '2022','2023'],\n",
    "                          lon_list = [-0.5, 0.5],path=r'../../data/era5_data/')"
   ]
  },
  {
   "cell_type": "code",
   "execution_count": null,
   "id": "1c0f84e9-b32f-4a1e-af3f-f491e4bce64e",
   "metadata": {},
   "outputs": [],
   "source": [
    "df"
   ]
  },
  {
   "cell_type": "markdown",
   "id": "e90e6557-8d85-43a4-9bc6-8c807336b2eb",
   "metadata": {},
   "source": [
    "# Get AURN data"
   ]
  },
  {
   "cell_type": "code",
   "execution_count": null,
   "id": "9b6ee2a6-5c9d-4df5-8ad1-2dc4a7c41c30",
   "metadata": {},
   "outputs": [],
   "source": [
    "gd.UK_AURN_metadata(path='../../data/')[0]['AURN_metadata']"
   ]
  },
  {
   "cell_type": "code",
   "execution_count": null,
   "id": "cd61e912-ad73-4020-8b33-1aa1b80d37b5",
   "metadata": {},
   "outputs": [],
   "source": [
    "gd.UK_AURN_download([2020],list_authorities=['Westminster'],path='../../data/')"
   ]
  },
  {
   "cell_type": "code",
   "execution_count": null,
   "id": "fa45904d-91c1-4be6-9d36-3e59654aae64",
   "metadata": {},
   "outputs": [],
   "source": []
  }
 ],
 "metadata": {
  "kernelspec": {
   "display_name": "Python 3 (ipykernel)",
   "language": "python",
   "name": "python3"
  },
  "language_info": {
   "codemirror_mode": {
    "name": "ipython",
    "version": 3
   },
   "file_extension": ".py",
   "mimetype": "text/x-python",
   "name": "python",
   "nbconvert_exporter": "python",
   "pygments_lexer": "ipython3",
   "version": "3.9.19"
  }
 },
 "nbformat": 4,
 "nbformat_minor": 5
}
