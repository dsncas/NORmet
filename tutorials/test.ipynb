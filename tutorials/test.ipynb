{
 "cells": [
  {
   "cell_type": "code",
   "execution_count": 1,
   "id": "a15b9727",
   "metadata": {},
   "outputs": [],
   "source": [
    "import os\n",
    "import pandas as pd\n",
    "import numpy as np\n",
    "import time"
   ]
  },
  {
   "cell_type": "code",
   "execution_count": 2,
   "id": "849a1548",
   "metadata": {},
   "outputs": [
    {
     "data": {
      "text/plain": [
       "'/Users/user/Documents/GitHub/NORmet/tutorials'"
      ]
     },
     "execution_count": 2,
     "metadata": {},
     "output_type": "execute_result"
    }
   ],
   "source": [
    "os.getcwd()"
   ]
  },
  {
   "cell_type": "code",
   "execution_count": 3,
   "id": "cb0932aa",
   "metadata": {},
   "outputs": [],
   "source": [
    "os.chdir('../')"
   ]
  },
  {
   "cell_type": "code",
   "execution_count": 4,
   "id": "0db0e01f",
   "metadata": {},
   "outputs": [],
   "source": [
    "df=pd.read_csv(r'./normet/datasets/testing_data.csv',parse_dates=['date'])"
   ]
  },
  {
   "cell_type": "code",
   "execution_count": 5,
   "id": "a38dbdee",
   "metadata": {},
   "outputs": [],
   "source": [
    "from normet.autodew import do_all"
   ]
  },
  {
   "cell_type": "code",
   "execution_count": 6,
   "id": "716f35bc",
   "metadata": {},
   "outputs": [
    {
     "name": "stdout",
     "output_type": "stream",
     "text": [
      "[flaml.automl.automl: 03-24 19:07:41] {2726} INFO - task = regression\n",
      "[flaml.automl.automl: 03-24 19:07:41] {2728} INFO - Data split method: uniform\n",
      "[flaml.automl.automl: 03-24 19:07:41] {2731} INFO - Evaluation method: holdout\n",
      "[flaml.automl.automl: 03-24 19:07:41] {2858} INFO - Minimizing error metric: 1-r2\n",
      "[flaml.automl.automl: 03-24 19:07:41] {3004} INFO - List of ML learners in AutoML Run: ['lgbm', 'rf', 'xgboost', 'extra_tree', 'xgb_limitdepth']\n",
      "[flaml.automl.automl: 03-24 19:07:41] {3334} INFO - iteration 0, current learner lgbm\n",
      "[flaml.automl.automl: 03-24 19:07:41] {3472} INFO - Estimated sufficient time budget=264s. Estimated necessary time budget=2s.\n",
      "[flaml.automl.automl: 03-24 19:07:41] {3519} INFO -  at 0.1s,\testimator lgbm's best error=0.9144,\tbest estimator lgbm's best error=0.9144\n",
      "[flaml.automl.automl: 03-24 19:07:41] {3334} INFO - iteration 1, current learner lgbm\n",
      "[flaml.automl.automl: 03-24 19:07:41] {3519} INFO -  at 0.1s,\testimator lgbm's best error=0.9144,\tbest estimator lgbm's best error=0.9144\n"
     ]
    },
    {
     "name": "stderr",
     "output_type": "stream",
     "text": [
      "/Users/user/Documents/GitHub/NORmet/normet/autodew.py:73: FutureWarning: Unlike other reduction functions (e.g. `skew`, `kurtosis`), the default behavior of `mode` typically preserves the axis it acts along. In SciPy 1.11.0, this behavior will change: the default value of `keepdims` will become False, the `axis` over which the statistic is taken will be eliminated, and the value None will no longer be accepted. Set `keepdims` to True or False to avoid this warning.\n",
      "  df[col].fillna(mode(df[col])[0][0], inplace=True)\n",
      "/Users/user/opt/anaconda3/lib/python3.9/site-packages/scipy/stats/_stats_py.py:110: RuntimeWarning: The input array could not be properly checked for nan values. nan values will be ignored.\n",
      "  warnings.warn(\"The input array could not be properly \"\n"
     ]
    },
    {
     "name": "stdout",
     "output_type": "stream",
     "text": [
      "[flaml.automl.automl: 03-24 19:07:41] {3334} INFO - iteration 2, current learner lgbm\n",
      "[flaml.automl.automl: 03-24 19:07:41] {3519} INFO -  at 0.1s,\testimator lgbm's best error=0.7303,\tbest estimator lgbm's best error=0.7303\n",
      "[flaml.automl.automl: 03-24 19:07:41] {3334} INFO - iteration 3, current learner xgboost\n",
      "[flaml.automl.automl: 03-24 19:07:41] {3519} INFO -  at 0.2s,\testimator xgboost's best error=1.5563,\tbest estimator lgbm's best error=0.7303\n",
      "[flaml.automl.automl: 03-24 19:07:41] {3334} INFO - iteration 4, current learner extra_tree\n",
      "[flaml.automl.automl: 03-24 19:07:41] {3519} INFO -  at 0.3s,\testimator extra_tree's best error=0.8458,\tbest estimator lgbm's best error=0.7303\n",
      "[flaml.automl.automl: 03-24 19:07:41] {3334} INFO - iteration 5, current learner lgbm\n",
      "[flaml.automl.automl: 03-24 19:07:41] {3519} INFO -  at 0.5s,\testimator lgbm's best error=0.5862,\tbest estimator lgbm's best error=0.5862\n",
      "[flaml.automl.automl: 03-24 19:07:41] {3334} INFO - iteration 6, current learner xgboost\n",
      "[flaml.automl.automl: 03-24 19:07:41] {3519} INFO -  at 0.5s,\testimator xgboost's best error=1.5563,\tbest estimator lgbm's best error=0.5862\n",
      "[flaml.automl.automl: 03-24 19:07:41] {3334} INFO - iteration 7, current learner xgboost\n",
      "[flaml.automl.automl: 03-24 19:07:41] {3519} INFO -  at 0.6s,\testimator xgboost's best error=0.7256,\tbest estimator lgbm's best error=0.5862\n",
      "[flaml.automl.automl: 03-24 19:07:41] {3334} INFO - iteration 8, current learner lgbm\n",
      "[flaml.automl.automl: 03-24 19:07:42] {3519} INFO -  at 1.7s,\testimator lgbm's best error=0.5304,\tbest estimator lgbm's best error=0.5304\n",
      "[flaml.automl.automl: 03-24 19:07:42] {3334} INFO - iteration 9, current learner xgboost\n",
      "[flaml.automl.automl: 03-24 19:07:42] {3519} INFO -  at 1.9s,\testimator xgboost's best error=0.6538,\tbest estimator lgbm's best error=0.5304\n",
      "[flaml.automl.automl: 03-24 19:07:42] {3334} INFO - iteration 10, current learner extra_tree\n",
      "[flaml.automl.automl: 03-24 19:07:42] {3519} INFO -  at 2.0s,\testimator extra_tree's best error=0.8336,\tbest estimator lgbm's best error=0.5304\n",
      "[flaml.automl.automl: 03-24 19:07:42] {3334} INFO - iteration 11, current learner rf\n",
      "[flaml.automl.automl: 03-24 19:07:43] {3519} INFO -  at 2.0s,\testimator rf's best error=0.8375,\tbest estimator lgbm's best error=0.5304\n",
      "[flaml.automl.automl: 03-24 19:07:43] {3334} INFO - iteration 12, current learner rf\n",
      "[flaml.automl.automl: 03-24 19:07:43] {3519} INFO -  at 2.0s,\testimator rf's best error=0.8245,\tbest estimator lgbm's best error=0.5304\n",
      "[flaml.automl.automl: 03-24 19:07:43] {3334} INFO - iteration 13, current learner xgboost\n",
      "[flaml.automl.automl: 03-24 19:07:43] {3519} INFO -  at 2.1s,\testimator xgboost's best error=0.6538,\tbest estimator lgbm's best error=0.5304\n",
      "[flaml.automl.automl: 03-24 19:07:43] {3334} INFO - iteration 14, current learner xgboost\n",
      "[flaml.automl.automl: 03-24 19:07:43] {3519} INFO -  at 2.2s,\testimator xgboost's best error=0.6538,\tbest estimator lgbm's best error=0.5304\n",
      "[flaml.automl.automl: 03-24 19:07:43] {3334} INFO - iteration 15, current learner xgboost\n",
      "[flaml.automl.automl: 03-24 19:07:43] {3519} INFO -  at 2.6s,\testimator xgboost's best error=0.6538,\tbest estimator lgbm's best error=0.5304\n",
      "[flaml.automl.automl: 03-24 19:07:43] {3334} INFO - iteration 16, current learner lgbm\n",
      "[flaml.automl.automl: 03-24 19:07:43] {3519} INFO -  at 2.8s,\testimator lgbm's best error=0.5304,\tbest estimator lgbm's best error=0.5304\n",
      "[flaml.automl.automl: 03-24 19:07:43] {3334} INFO - iteration 17, current learner extra_tree\n",
      "[flaml.automl.automl: 03-24 19:07:43] {3519} INFO -  at 2.8s,\testimator extra_tree's best error=0.8336,\tbest estimator lgbm's best error=0.5304\n",
      "[flaml.automl.automl: 03-24 19:07:43] {3334} INFO - iteration 18, current learner lgbm\n",
      "[flaml.automl.automl: 03-24 19:07:44] {3519} INFO -  at 3.9s,\testimator lgbm's best error=0.4971,\tbest estimator lgbm's best error=0.4971\n",
      "[flaml.automl.automl: 03-24 19:07:44] {3334} INFO - iteration 19, current learner xgboost\n",
      "[flaml.automl.automl: 03-24 19:07:45] {3519} INFO -  at 4.0s,\testimator xgboost's best error=0.6538,\tbest estimator lgbm's best error=0.4971\n",
      "[flaml.automl.automl: 03-24 19:07:45] {3334} INFO - iteration 20, current learner lgbm\n",
      "[flaml.automl.automl: 03-24 19:07:46] {3519} INFO -  at 5.2s,\testimator lgbm's best error=0.4971,\tbest estimator lgbm's best error=0.4971\n",
      "[flaml.automl.automl: 03-24 19:07:46] {3334} INFO - iteration 21, current learner rf\n",
      "[flaml.automl.automl: 03-24 19:07:46] {3519} INFO -  at 5.3s,\testimator rf's best error=0.8245,\tbest estimator lgbm's best error=0.4971\n",
      "[flaml.automl.automl: 03-24 19:07:46] {3334} INFO - iteration 22, current learner lgbm\n",
      "[flaml.automl.automl: 03-24 19:07:46] {3519} INFO -  at 5.5s,\testimator lgbm's best error=0.4971,\tbest estimator lgbm's best error=0.4971\n",
      "[flaml.automl.automl: 03-24 19:07:46] {3334} INFO - iteration 23, current learner lgbm\n",
      "[flaml.automl.automl: 03-24 19:07:52] {3519} INFO -  at 11.9s,\testimator lgbm's best error=0.4617,\tbest estimator lgbm's best error=0.4617\n",
      "[flaml.automl.automl: 03-24 19:07:52] {3334} INFO - iteration 24, current learner xgb_limitdepth\n",
      "[flaml.automl.automl: 03-24 19:07:53] {3519} INFO -  at 12.1s,\testimator xgb_limitdepth's best error=0.6435,\tbest estimator lgbm's best error=0.4617\n",
      "[flaml.automl.automl: 03-24 19:07:53] {3334} INFO - iteration 25, current learner xgb_limitdepth\n",
      "[flaml.automl.automl: 03-24 19:07:53] {3519} INFO -  at 12.1s,\testimator xgb_limitdepth's best error=0.6435,\tbest estimator lgbm's best error=0.4617\n",
      "[flaml.automl.automl: 03-24 19:07:53] {3334} INFO - iteration 26, current learner xgb_limitdepth\n",
      "[flaml.automl.automl: 03-24 19:07:53] {3519} INFO -  at 12.6s,\testimator xgb_limitdepth's best error=0.5325,\tbest estimator lgbm's best error=0.4617\n",
      "[flaml.automl.automl: 03-24 19:07:53] {3334} INFO - iteration 27, current learner extra_tree\n",
      "[flaml.automl.automl: 03-24 19:07:53] {3519} INFO -  at 12.6s,\testimator extra_tree's best error=0.8072,\tbest estimator lgbm's best error=0.4617\n",
      "[flaml.automl.automl: 03-24 19:07:53] {3334} INFO - iteration 28, current learner xgb_limitdepth\n",
      "[flaml.automl.automl: 03-24 19:07:56] {3519} INFO -  at 15.2s,\testimator xgb_limitdepth's best error=0.5325,\tbest estimator lgbm's best error=0.4617\n",
      "[flaml.automl.automl: 03-24 19:07:56] {3334} INFO - iteration 29, current learner xgb_limitdepth\n",
      "[flaml.automl.automl: 03-24 19:07:56] {3519} INFO -  at 15.3s,\testimator xgb_limitdepth's best error=0.5325,\tbest estimator lgbm's best error=0.4617\n",
      "[flaml.automl.automl: 03-24 19:07:56] {3334} INFO - iteration 30, current learner xgb_limitdepth\n",
      "[flaml.automl.automl: 03-24 19:07:56] {3519} INFO -  at 15.6s,\testimator xgb_limitdepth's best error=0.5325,\tbest estimator lgbm's best error=0.4617\n",
      "[flaml.automl.automl: 03-24 19:07:56] {3334} INFO - iteration 31, current learner lgbm\n",
      "[flaml.automl.automl: 03-24 19:07:58] {3519} INFO -  at 17.6s,\testimator lgbm's best error=0.4617,\tbest estimator lgbm's best error=0.4617\n",
      "[flaml.automl.automl: 03-24 19:07:58] {3334} INFO - iteration 32, current learner lgbm\n",
      "[flaml.automl.automl: 03-24 19:08:19] {3519} INFO -  at 38.3s,\testimator lgbm's best error=0.4617,\tbest estimator lgbm's best error=0.4617\n",
      "[flaml.automl.automl: 03-24 19:08:19] {3334} INFO - iteration 33, current learner xgboost\n",
      "[flaml.automl.automl: 03-24 19:08:19] {3519} INFO -  at 38.8s,\testimator xgboost's best error=0.6350,\tbest estimator lgbm's best error=0.4617\n",
      "[flaml.automl.automl: 03-24 19:08:19] {3334} INFO - iteration 34, current learner xgb_limitdepth\n",
      "[flaml.automl.automl: 03-24 19:08:20] {3519} INFO -  at 39.8s,\testimator xgb_limitdepth's best error=0.4677,\tbest estimator lgbm's best error=0.4617\n",
      "[flaml.automl.automl: 03-24 19:08:20] {3334} INFO - iteration 35, current learner rf\n",
      "[flaml.automl.automl: 03-24 19:08:20] {3519} INFO -  at 39.9s,\testimator rf's best error=0.7920,\tbest estimator lgbm's best error=0.4617\n",
      "[flaml.automl.automl: 03-24 19:08:20] {3334} INFO - iteration 36, current learner extra_tree\n",
      "[flaml.automl.automl: 03-24 19:08:20] {3519} INFO -  at 40.0s,\testimator extra_tree's best error=0.8072,\tbest estimator lgbm's best error=0.4617\n",
      "[flaml.automl.automl: 03-24 19:08:20] {3334} INFO - iteration 37, current learner xgb_limitdepth\n"
     ]
    },
    {
     "name": "stdout",
     "output_type": "stream",
     "text": [
      "[flaml.automl.automl: 03-24 19:08:21] {3519} INFO -  at 40.4s,\testimator xgb_limitdepth's best error=0.4677,\tbest estimator lgbm's best error=0.4617\n",
      "[flaml.automl.automl: 03-24 19:08:21] {3334} INFO - iteration 38, current learner extra_tree\n",
      "[flaml.automl.automl: 03-24 19:08:21] {3519} INFO -  at 40.4s,\testimator extra_tree's best error=0.7742,\tbest estimator lgbm's best error=0.4617\n",
      "[flaml.automl.automl: 03-24 19:08:21] {3334} INFO - iteration 39, current learner extra_tree\n",
      "[flaml.automl.automl: 03-24 19:08:21] {3519} INFO -  at 40.4s,\testimator extra_tree's best error=0.7742,\tbest estimator lgbm's best error=0.4617\n",
      "[flaml.automl.automl: 03-24 19:08:21] {3334} INFO - iteration 40, current learner extra_tree\n",
      "[flaml.automl.automl: 03-24 19:08:21] {3519} INFO -  at 40.5s,\testimator extra_tree's best error=0.7697,\tbest estimator lgbm's best error=0.4617\n",
      "[flaml.automl.automl: 03-24 19:08:21] {3334} INFO - iteration 41, current learner xgb_limitdepth\n",
      "[flaml.automl.automl: 03-24 19:08:24] {3519} INFO -  at 43.4s,\testimator xgb_limitdepth's best error=0.4659,\tbest estimator lgbm's best error=0.4617\n",
      "[flaml.automl.automl: 03-24 19:08:24] {3334} INFO - iteration 42, current learner extra_tree\n",
      "[flaml.automl.automl: 03-24 19:08:24] {3519} INFO -  at 43.4s,\testimator extra_tree's best error=0.7697,\tbest estimator lgbm's best error=0.4617\n",
      "[flaml.automl.automl: 03-24 19:08:24] {3334} INFO - iteration 43, current learner lgbm\n",
      "[flaml.automl.automl: 03-24 19:08:26] {3519} INFO -  at 45.5s,\testimator lgbm's best error=0.4617,\tbest estimator lgbm's best error=0.4617\n",
      "[flaml.automl.automl: 03-24 19:08:26] {3334} INFO - iteration 44, current learner extra_tree\n",
      "[flaml.automl.automl: 03-24 19:08:26] {3519} INFO -  at 45.6s,\testimator extra_tree's best error=0.7278,\tbest estimator lgbm's best error=0.4617\n",
      "[flaml.automl.automl: 03-24 19:08:26] {3334} INFO - iteration 45, current learner xgb_limitdepth\n",
      "[flaml.automl.automl: 03-24 19:08:28] {3519} INFO -  at 47.9s,\testimator xgb_limitdepth's best error=0.4659,\tbest estimator lgbm's best error=0.4617\n",
      "[flaml.automl.automl: 03-24 19:08:28] {3334} INFO - iteration 46, current learner extra_tree\n",
      "[flaml.automl.automl: 03-24 19:08:28] {3519} INFO -  at 47.9s,\testimator extra_tree's best error=0.7278,\tbest estimator lgbm's best error=0.4617\n",
      "[flaml.automl.automl: 03-24 19:08:28] {3334} INFO - iteration 47, current learner rf\n",
      "[flaml.automl.automl: 03-24 19:08:29] {3519} INFO -  at 48.0s,\testimator rf's best error=0.7920,\tbest estimator lgbm's best error=0.4617\n",
      "[flaml.automl.automl: 03-24 19:08:29] {3334} INFO - iteration 48, current learner extra_tree\n",
      "[flaml.automl.automl: 03-24 19:08:29] {3519} INFO -  at 48.1s,\testimator extra_tree's best error=0.6911,\tbest estimator lgbm's best error=0.4617\n",
      "[flaml.automl.automl: 03-24 19:08:29] {3334} INFO - iteration 49, current learner rf\n",
      "[flaml.automl.automl: 03-24 19:08:29] {3519} INFO -  at 48.1s,\testimator rf's best error=0.7656,\tbest estimator lgbm's best error=0.4617\n",
      "[flaml.automl.automl: 03-24 19:08:29] {3334} INFO - iteration 50, current learner extra_tree\n",
      "[flaml.automl.automl: 03-24 19:08:29] {3519} INFO -  at 48.2s,\testimator extra_tree's best error=0.6911,\tbest estimator lgbm's best error=0.4617\n",
      "[flaml.automl.automl: 03-24 19:08:29] {3334} INFO - iteration 51, current learner extra_tree\n",
      "[flaml.automl.automl: 03-24 19:08:29] {3519} INFO -  at 48.2s,\testimator extra_tree's best error=0.6911,\tbest estimator lgbm's best error=0.4617\n",
      "[flaml.automl.automl: 03-24 19:08:29] {3334} INFO - iteration 52, current learner rf\n",
      "[flaml.automl.automl: 03-24 19:08:29] {3519} INFO -  at 48.3s,\testimator rf's best error=0.7656,\tbest estimator lgbm's best error=0.4617\n",
      "[flaml.automl.automl: 03-24 19:08:29] {3334} INFO - iteration 53, current learner rf\n",
      "[flaml.automl.automl: 03-24 19:08:29] {3519} INFO -  at 48.4s,\testimator rf's best error=0.7391,\tbest estimator lgbm's best error=0.4617\n",
      "[flaml.automl.automl: 03-24 19:08:29] {3334} INFO - iteration 54, current learner rf\n",
      "[flaml.automl.automl: 03-24 19:08:29] {3519} INFO -  at 48.4s,\testimator rf's best error=0.7391,\tbest estimator lgbm's best error=0.4617\n",
      "[flaml.automl.automl: 03-24 19:08:29] {3334} INFO - iteration 55, current learner lgbm\n",
      "[flaml.automl.automl: 03-24 19:08:40] {3519} INFO -  at 59.8s,\testimator lgbm's best error=0.4617,\tbest estimator lgbm's best error=0.4617\n",
      "[flaml.automl.automl: 03-24 19:08:40] {3334} INFO - iteration 56, current learner extra_tree\n",
      "[flaml.automl.automl: 03-24 19:08:40] {3519} INFO -  at 59.9s,\testimator extra_tree's best error=0.6677,\tbest estimator lgbm's best error=0.4617\n",
      "[flaml.automl.automl: 03-24 19:08:40] {3334} INFO - iteration 57, current learner rf\n",
      "[flaml.automl.automl: 03-24 19:08:41] {3519} INFO -  at 60.0s,\testimator rf's best error=0.6830,\tbest estimator lgbm's best error=0.4617\n",
      "[flaml.automl.automl: 03-24 19:08:47] {3783} INFO - retrain lgbm for 6.7s\n",
      "[flaml.automl.automl: 03-24 19:08:47] {3790} INFO - retrained model: LGBMRegressor(learning_rate=0.17583852694964577, max_bin=511,\n",
      "              min_child_samples=19, n_estimators=38, num_leaves=755,\n",
      "              reg_alpha=0.003604745448841197, reg_lambda=0.06152256910729002,\n",
      "              verbose=-1)\n",
      "[flaml.automl.automl: 03-24 19:08:47] {3034} INFO - fit succeeded\n",
      "[flaml.automl.automl: 03-24 19:08:47] {3035} INFO - Time taken to find the best model: 11.923831701278687\n"
     ]
    },
    {
     "data": {
      "text/plain": [
       "77.60375118255615"
      ]
     },
     "execution_count": 6,
     "metadata": {},
     "output_type": "execute_result"
    }
   ],
   "source": [
    "date_start = time.time()\n",
    "df_dew=do_all(df, value='PM2.5',\n",
    "                     feature_names=['date_unix','day_julian', 'weekday', 'hour','ws', 'wd','air_temp', 'atmos_pres', 'dew_point', 'RH'],\n",
    "              split_method = 'random',time_budget=60,\n",
    "                     variables_sample=['ws', 'wd','air_temp', 'atmos_pres', 'dew_point', 'RH'], \n",
    "                     n_samples=100,fraction=0.75)\n",
    "date_post_training = time.time()\n",
    "date_post_training-date_start"
   ]
  },
  {
   "cell_type": "code",
   "execution_count": 7,
   "id": "3e8345b2",
   "metadata": {},
   "outputs": [
    {
     "data": {
      "text/plain": [
       "<matplotlib.axes._subplots.AxesSubplot at 0x7fc7c0c82940>"
      ]
     },
     "execution_count": 7,
     "metadata": {},
     "output_type": "execute_result"
    },
    {
     "data": {
      "image/png": "[encoded data removed]",
      "text/plain": [
       "<Figure size 640x480 with 1 Axes>"
      ]
     },
     "metadata": {},
     "output_type": "display_data"
    }
   ],
   "source": [
    "df_dew.plot()"
   ]
  },
  {
   "cell_type": "code",
   "execution_count": 8,
   "id": "e1f5b140",
   "metadata": {},
   "outputs": [],
   "source": [
    "from normet.autodew import prepare_data"
   ]
  },
  {
   "cell_type": "code",
   "execution_count": 9,
   "id": "aaa20614",
   "metadata": {},
   "outputs": [
    {
     "name": "stderr",
     "output_type": "stream",
     "text": [
      "/Users/user/Documents/GitHub/NORmet/normet/autodew.py:73: FutureWarning: Unlike other reduction functions (e.g. `skew`, `kurtosis`), the default behavior of `mode` typically preserves the axis it acts along. In SciPy 1.11.0, this behavior will change: the default value of `keepdims` will become False, the `axis` over which the statistic is taken will be eliminated, and the value None will no longer be accepted. Set `keepdims` to True or False to avoid this warning.\n",
      "  df[col].fillna(mode(df[col])[0][0], inplace=True)\n",
      "/Users/user/opt/anaconda3/lib/python3.9/site-packages/scipy/stats/_stats_py.py:110: RuntimeWarning: The input array could not be properly checked for nan values. nan values will be ignored.\n",
      "  warnings.warn(\"The input array could not be properly \"\n"
     ]
    }
   ],
   "source": [
    "df=pd.read_csv(r'./normet/datasets/testing_data.csv',parse_dates=['date'])\n",
    "df=prepare_data(df, value='PM2.5', split_method = 'random',na_rm=False, replace=False, fraction=0.75)"
   ]
  },
  {
   "cell_type": "code",
   "execution_count": 10,
   "id": "d8238876",
   "metadata": {},
   "outputs": [],
   "source": [
    "from normet.autodew import train_model"
   ]
  },
  {
   "cell_type": "code",
   "execution_count": null,
   "id": "db150d60",
   "metadata": {},
   "outputs": [
    {
     "name": "stdout",
     "output_type": "stream",
     "text": [
      "[flaml.automl.automl: 03-24 19:08:58] {2726} INFO - task = regression\n",
      "[flaml.automl.automl: 03-24 19:08:58] {2728} INFO - Data split method: uniform\n",
      "[flaml.automl.automl: 03-24 19:08:58] {2731} INFO - Evaluation method: holdout\n",
      "[flaml.automl.automl: 03-24 19:08:58] {2858} INFO - Minimizing error metric: 1-r2\n",
      "[flaml.automl.automl: 03-24 19:08:58] {3004} INFO - List of ML learners in AutoML Run: ['lgbm', 'rf', 'xgboost', 'extra_tree', 'xgb_limitdepth']\n",
      "[flaml.automl.automl: 03-24 19:08:58] {3334} INFO - iteration 0, current learner lgbm\n",
      "[flaml.automl.automl: 03-24 19:08:59] {3472} INFO - Estimated sufficient time budget=314s. Estimated necessary time budget=2s.\n",
      "[flaml.automl.automl: 03-24 19:08:59] {3519} INFO -  at 0.1s,\testimator lgbm's best error=0.9144,\tbest estimator lgbm's best error=0.9144\n",
      "[flaml.automl.automl: 03-24 19:08:59] {3334} INFO - iteration 1, current learner lgbm\n",
      "[flaml.automl.automl: 03-24 19:08:59] {3519} INFO -  at 0.1s,\testimator lgbm's best error=0.9144,\tbest estimator lgbm's best error=0.9144\n",
      "[flaml.automl.automl: 03-24 19:08:59] {3334} INFO - iteration 2, current learner lgbm\n",
      "[flaml.automl.automl: 03-24 19:09:02] {3519} INFO -  at 3.2s,\testimator lgbm's best error=0.7303,\tbest estimator lgbm's best error=0.7303\n",
      "[flaml.automl.automl: 03-24 19:09:02] {3334} INFO - iteration 3, current learner xgboost\n",
      "[flaml.automl.automl: 03-24 19:09:02] {3519} INFO -  at 3.3s,\testimator xgboost's best error=1.5563,\tbest estimator lgbm's best error=0.7303\n",
      "[flaml.automl.automl: 03-24 19:09:02] {3334} INFO - iteration 4, current learner lgbm\n",
      "[flaml.automl.automl: 03-24 19:09:02] {3519} INFO -  at 3.4s,\testimator lgbm's best error=0.5862,\tbest estimator lgbm's best error=0.5862\n",
      "[flaml.automl.automl: 03-24 19:09:02] {3334} INFO - iteration 5, current learner xgboost\n",
      "[flaml.automl.automl: 03-24 19:09:02] {3519} INFO -  at 3.5s,\testimator xgboost's best error=1.5563,\tbest estimator lgbm's best error=0.5862\n",
      "[flaml.automl.automl: 03-24 19:09:02] {3334} INFO - iteration 6, current learner extra_tree\n",
      "[flaml.automl.automl: 03-24 19:09:02] {3519} INFO -  at 3.5s,\testimator extra_tree's best error=0.8458,\tbest estimator lgbm's best error=0.5862\n",
      "[flaml.automl.automl: 03-24 19:09:02] {3334} INFO - iteration 7, current learner xgboost\n",
      "[flaml.automl.automl: 03-24 19:09:02] {3519} INFO -  at 3.5s,\testimator xgboost's best error=0.7256,\tbest estimator lgbm's best error=0.5862\n",
      "[flaml.automl.automl: 03-24 19:09:02] {3334} INFO - iteration 8, current learner xgboost\n",
      "[flaml.automl.automl: 03-24 19:09:02] {3519} INFO -  at 3.7s,\testimator xgboost's best error=0.6538,\tbest estimator lgbm's best error=0.5862\n",
      "[flaml.automl.automl: 03-24 19:09:02] {3334} INFO - iteration 9, current learner extra_tree\n",
      "[flaml.automl.automl: 03-24 19:09:02] {3519} INFO -  at 3.7s,\testimator extra_tree's best error=0.8336,\tbest estimator lgbm's best error=0.5862\n",
      "[flaml.automl.automl: 03-24 19:09:02] {3334} INFO - iteration 10, current learner rf\n",
      "[flaml.automl.automl: 03-24 19:09:02] {3519} INFO -  at 3.8s,\testimator rf's best error=0.8375,\tbest estimator lgbm's best error=0.5862\n",
      "[flaml.automl.automl: 03-24 19:09:02] {3334} INFO - iteration 11, current learner rf\n",
      "[flaml.automl.automl: 03-24 19:09:02] {3519} INFO -  at 3.8s,\testimator rf's best error=0.8245,\tbest estimator lgbm's best error=0.5862\n",
      "[flaml.automl.automl: 03-24 19:09:02] {3334} INFO - iteration 12, current learner lgbm\n",
      "[flaml.automl.automl: 03-24 19:09:03] {3519} INFO -  at 4.8s,\testimator lgbm's best error=0.5304,\tbest estimator lgbm's best error=0.5304\n",
      "[flaml.automl.automl: 03-24 19:09:03] {3334} INFO - iteration 13, current learner xgboost\n",
      "[flaml.automl.automl: 03-24 19:09:03] {3519} INFO -  at 4.9s,\testimator xgboost's best error=0.6538,\tbest estimator lgbm's best error=0.5304\n",
      "[flaml.automl.automl: 03-24 19:09:03] {3334} INFO - iteration 14, current learner rf\n",
      "[flaml.automl.automl: 03-24 19:09:03] {3519} INFO -  at 4.9s,\testimator rf's best error=0.8245,\tbest estimator lgbm's best error=0.5304\n",
      "[flaml.automl.automl: 03-24 19:09:03] {3334} INFO - iteration 15, current learner xgboost\n",
      "[flaml.automl.automl: 03-24 19:09:04] {3519} INFO -  at 5.1s,\testimator xgboost's best error=0.6538,\tbest estimator lgbm's best error=0.5304\n",
      "[flaml.automl.automl: 03-24 19:09:04] {3334} INFO - iteration 16, current learner lgbm\n",
      "[flaml.automl.automl: 03-24 19:09:04] {3519} INFO -  at 5.2s,\testimator lgbm's best error=0.5304,\tbest estimator lgbm's best error=0.5304\n",
      "[flaml.automl.automl: 03-24 19:09:04] {3334} INFO - iteration 17, current learner extra_tree\n",
      "[flaml.automl.automl: 03-24 19:09:04] {3519} INFO -  at 5.2s,\testimator extra_tree's best error=0.8336,\tbest estimator lgbm's best error=0.5304\n",
      "[flaml.automl.automl: 03-24 19:09:04] {3334} INFO - iteration 18, current learner lgbm\n",
      "[flaml.automl.automl: 03-24 19:09:05] {3519} INFO -  at 6.2s,\testimator lgbm's best error=0.4971,\tbest estimator lgbm's best error=0.4971\n",
      "[flaml.automl.automl: 03-24 19:09:05] {3334} INFO - iteration 19, current learner xgboost\n",
      "[flaml.automl.automl: 03-24 19:09:05] {3519} INFO -  at 6.6s,\testimator xgboost's best error=0.6538,\tbest estimator lgbm's best error=0.4971\n",
      "[flaml.automl.automl: 03-24 19:09:05] {3334} INFO - iteration 20, current learner lgbm\n",
      "[flaml.automl.automl: 03-24 19:09:06] {3519} INFO -  at 7.8s,\testimator lgbm's best error=0.4971,\tbest estimator lgbm's best error=0.4971\n",
      "[flaml.automl.automl: 03-24 19:09:06] {3334} INFO - iteration 21, current learner rf\n",
      "[flaml.automl.automl: 03-24 19:09:06] {3519} INFO -  at 7.8s,\testimator rf's best error=0.7920,\tbest estimator lgbm's best error=0.4971\n",
      "[flaml.automl.automl: 03-24 19:09:06] {3334} INFO - iteration 22, current learner lgbm\n",
      "[flaml.automl.automl: 03-24 19:09:07] {3519} INFO -  at 8.1s,\testimator lgbm's best error=0.4971,\tbest estimator lgbm's best error=0.4971\n",
      "[flaml.automl.automl: 03-24 19:09:07] {3334} INFO - iteration 23, current learner lgbm\n",
      "[flaml.automl.automl: 03-24 19:09:11] {3519} INFO -  at 12.2s,\testimator lgbm's best error=0.4617,\tbest estimator lgbm's best error=0.4617\n",
      "[flaml.automl.automl: 03-24 19:09:11] {3334} INFO - iteration 24, current learner xgb_limitdepth\n",
      "[flaml.automl.automl: 03-24 19:09:11] {3519} INFO -  at 12.4s,\testimator xgb_limitdepth's best error=0.6435,\tbest estimator lgbm's best error=0.4617\n",
      "[flaml.automl.automl: 03-24 19:09:11] {3334} INFO - iteration 25, current learner xgb_limitdepth\n",
      "[flaml.automl.automl: 03-24 19:09:11] {3519} INFO -  at 12.4s,\testimator xgb_limitdepth's best error=0.6435,\tbest estimator lgbm's best error=0.4617\n",
      "[flaml.automl.automl: 03-24 19:09:11] {3334} INFO - iteration 26, current learner xgb_limitdepth\n",
      "[flaml.automl.automl: 03-24 19:09:11] {3519} INFO -  at 13.0s,\testimator xgb_limitdepth's best error=0.5325,\tbest estimator lgbm's best error=0.4617\n",
      "[flaml.automl.automl: 03-24 19:09:11] {3334} INFO - iteration 27, current learner xgboost\n",
      "[flaml.automl.automl: 03-24 19:09:12] {3519} INFO -  at 13.1s,\testimator xgboost's best error=0.6538,\tbest estimator lgbm's best error=0.4617\n",
      "[flaml.automl.automl: 03-24 19:09:12] {3334} INFO - iteration 28, current learner xgb_limitdepth\n",
      "[flaml.automl.automl: 03-24 19:09:14] {3519} INFO -  at 15.4s,\testimator xgb_limitdepth's best error=0.5325,\tbest estimator lgbm's best error=0.4617\n",
      "[flaml.automl.automl: 03-24 19:09:14] {3334} INFO - iteration 29, current learner xgb_limitdepth\n",
      "[flaml.automl.automl: 03-24 19:09:14] {3519} INFO -  at 15.7s,\testimator xgb_limitdepth's best error=0.5325,\tbest estimator lgbm's best error=0.4617\n",
      "[flaml.automl.automl: 03-24 19:09:14] {3334} INFO - iteration 30, current learner xgb_limitdepth\n",
      "[flaml.automl.automl: 03-24 19:09:15] {3519} INFO -  at 16.1s,\testimator xgb_limitdepth's best error=0.5325,\tbest estimator lgbm's best error=0.4617\n",
      "[flaml.automl.automl: 03-24 19:09:15] {3334} INFO - iteration 31, current learner lgbm\n",
      "[flaml.automl.automl: 03-24 19:09:16] {3519} INFO -  at 17.3s,\testimator lgbm's best error=0.4617,\tbest estimator lgbm's best error=0.4617\n",
      "[flaml.automl.automl: 03-24 19:09:16] {3334} INFO - iteration 32, current learner lgbm\n"
     ]
    }
   ],
   "source": [
    "automl=train_model(df,variables=['date_unix','day_julian', 'weekday', 'hour','ws', 'wd','air_temp', 'atmos_pres', 'dew_point', 'RH'],\n",
    "                time_budget= 60,  metric= 'r2', task= 'regression', seed= 7654321);"
   ]
  },
  {
   "cell_type": "code",
   "execution_count": null,
   "id": "ada92c4d",
   "metadata": {},
   "outputs": [],
   "source": [
    "from normet.autodew import normalise"
   ]
  },
  {
   "cell_type": "code",
   "execution_count": null,
   "id": "010f1f73",
   "metadata": {},
   "outputs": [],
   "source": [
    "date_start = time.time()\n",
    "df_dew = normalise(automl, df, \n",
    "                           feature_names = ['date_unix','day_julian', 'weekday', 'hour', \n",
    "                                            'ws','wd', 'air_temp','atmos_pres', 'dew_point', 'RH'],\n",
    "                          variables= ['ws','wd', 'air_temp', 'atmos_pres', 'dew_point', 'RH'],\n",
    "                          n_samples=100)\n",
    "date_post_training = time.time()\n",
    "date_post_training-date_start"
   ]
  },
  {
   "cell_type": "code",
   "execution_count": null,
   "id": "c9dece04",
   "metadata": {},
   "outputs": [],
   "source": [
    "df_dew.plot()"
   ]
  },
  {
   "cell_type": "code",
   "execution_count": null,
   "id": "9af9fbfa",
   "metadata": {},
   "outputs": [],
   "source": [
    "from normet.autodew import modStats"
   ]
  },
  {
   "cell_type": "code",
   "execution_count": null,
   "id": "e66365fb",
   "metadata": {},
   "outputs": [],
   "source": [
    "modStats(df,set='testing')"
   ]
  },
  {
   "cell_type": "code",
   "execution_count": null,
   "id": "99cb57f7",
   "metadata": {},
   "outputs": [],
   "source": [
    "from normet.pdp import partial_dependencies"
   ]
  },
  {
   "cell_type": "code",
   "execution_count": null,
   "id": "d11f97b6",
   "metadata": {},
   "outputs": [],
   "source": [
    "pdp=partial_dependencies(automl, df,['date_unix','day_julian', 'weekday', 'hour', \n",
    "                                            'ws','wd', 'air_temp','atmos_pres', 'dew_point', 'RH'],\n",
    "                     variable=['date_unix','day_julian', 'weekday', 'hour', \n",
    "                                            'ws','wd', 'air_temp','atmos_pres', 'dew_point', 'RH'])"
   ]
  },
  {
   "cell_type": "code",
   "execution_count": null,
   "id": "25f6dc14",
   "metadata": {},
   "outputs": [],
   "source": [
    "pdp"
   ]
  },
  {
   "cell_type": "code",
   "execution_count": null,
   "id": "800a16e0",
   "metadata": {},
   "outputs": [],
   "source": [
    "\n",
    "from joblib import Parallel, delayed\n",
    "from pdpbox import pdp, get_dataset"
   ]
  },
  {
   "cell_type": "code",
   "execution_count": null,
   "id": "79a51161",
   "metadata": {},
   "outputs": [],
   "source": [
    "feature_names=['date_unix','day_julian', 'weekday', 'hour','ws', 'wd','air_temp', 'atmos_pres', 'dew_point', 'RH']\n",
    "plot_params = {\n",
    "    'title_fontsize': 15,\n",
    "    'subtitle_fontsize': 12,\n",
    "    'contour_color':  'white',\n",
    "    'font_family': 'Arial',\n",
    "    'cmap': 'viridis',\n",
    "    'inter_fill_alpha': 0.8,\n",
    "    'inter_fontsize': 9}\n",
    "pdp_A=pdp.pdp_isolate(model=automl,\n",
    "                           dataset=df,\n",
    "                           model_features=['date_unix','day_julian', 'weekday', 'hour','ws', 'wd','air_temp', 'atmos_pres', 'dew_point', 'RH'],\n",
    "                           feature='day_julian')\n",
    "fig, axes = pdp.pdp_plot(pdp_isolate_out=pdp_A,feature_name='day_julian', center=True, \n",
    "                         x_quantile=True, ncols=1,plot_lines=False, frac_to_plot=100,plot_params=plot_params,\n",
    "                         figsize=(4, 6))"
   ]
  },
  {
   "cell_type": "code",
   "execution_count": null,
   "id": "5bd408bb",
   "metadata": {},
   "outputs": [],
   "source": []
  }
 ],
 "metadata": {
  "kernelspec": {
   "display_name": "Python 3 (ipykernel)",
   "language": "python",
   "name": "python3"
  },
  "language_info": {
   "codemirror_mode": {
    "name": "ipython",
    "version": 3
   },
   "file_extension": ".py",
   "mimetype": "text/x-python",
   "name": "python",
   "nbconvert_exporter": "python",
   "pygments_lexer": "ipython3",
   "version": "3.9.13"
  }
 },
 "nbformat": 4,
 "nbformat_minor": 5
}
