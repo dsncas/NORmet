{
 "cells": [
  {
   "cell_type": "code",
   "execution_count": 1,
   "id": "a7a57c76",
   "metadata": {},
   "outputs": [],
   "source": [
    "import os\n",
    "import pandas as pd\n",
    "import numpy as np\n",
    "import time"
   ]
  },
  {
   "cell_type": "code",
   "execution_count": 2,
   "id": "27aaad6f",
   "metadata": {},
   "outputs": [
    {
     "data": {
      "text/plain": [
       "'/Users/user/Documents/GitHub/NORmet/tutorials'"
      ]
     },
     "execution_count": 2,
     "metadata": {},
     "output_type": "execute_result"
    }
   ],
   "source": [
    "os.getcwd()"
   ]
  },
  {
   "cell_type": "code",
   "execution_count": 3,
   "id": "269922b4",
   "metadata": {},
   "outputs": [],
   "source": [
    "os.chdir('../')"
   ]
  },
  {
   "cell_type": "code",
   "execution_count": 4,
   "id": "1921d8a1",
   "metadata": {},
   "outputs": [],
   "source": [
    "df=pd.read_csv(r'./normet/datasets/testing_data.csv',parse_dates=['date'])"
   ]
  },
  {
   "cell_type": "code",
   "execution_count": 5,
   "id": "1897d0fa",
   "metadata": {},
   "outputs": [],
   "source": [
    "import normet.autodew1 as ad"
   ]
  },
  {
   "cell_type": "code",
   "execution_count": 6,
   "id": "94609bc6",
   "metadata": {},
   "outputs": [],
   "source": [
    "all_features=['date_unix','day_julian', 'weekday', 'hour','ws', 'wd','air_temp', 'atmos_pres', 'dew_point', 'RH','blh']"
   ]
  },
  {
   "cell_type": "code",
   "execution_count": 7,
   "id": "528d8180",
   "metadata": {},
   "outputs": [
    {
     "name": "stderr",
     "output_type": "stream",
     "text": [
      "/Users/user/miniconda3/envs/tensorflow2/lib/python3.8/site-packages/scipy/stats/_stats_py.py:112: RuntimeWarning: The input array could not be properly checked for nan values. nan values will be ignored.\n",
      "  warnings.warn(\"The input array could not be properly \"\n",
      "/Users/user/Documents/GitHub/NORmet/normet/autodew1.py:217: SettingWithCopyWarning: \n",
      "A value is trying to be set on a copy of a slice from a DataFrame.\n",
      "Try using .loc[row_indexer,col_indexer] = value instead\n",
      "\n",
      "See the caveats in the documentation: https://pandas.pydata.org/pandas-docs/stable/user_guide/indexing.html#returning-a-view-versus-a-copy\n",
      "  df.loc[:,'value_predict']=automl.predict(df)\n"
     ]
    },
    {
     "data": {
      "text/plain": [
       "15.753875017166138"
      ]
     },
     "execution_count": 7,
     "metadata": {},
     "output_type": "execute_result"
    }
   ],
   "source": [
    "date_start = time.time()\n",
    "df_dew,index_test=ad.do_all(df, value='PM2.5',\n",
    "                     feature_names=all_features,\n",
    "              split_method = 'random',time_budget=10,\n",
    "                     variables_sample=['ws', 'wd','air_temp', 'atmos_pres', 'dew_point', 'RH','blh'], \n",
    "                     n_samples=10,fraction=0.75)\n",
    "date_post_training = time.time()\n",
    "date_post_training-date_start"
   ]
  },
  {
   "cell_type": "code",
   "execution_count": 9,
   "id": "b0a8767f",
   "metadata": {},
   "outputs": [
    {
     "data": {
      "text/html": [
       "<div>\n",
       "<style scoped>\n",
       "    .dataframe tbody tr th:only-of-type {\n",
       "        vertical-align: middle;\n",
       "    }\n",
       "\n",
       "    .dataframe tbody tr th {\n",
       "        vertical-align: top;\n",
       "    }\n",
       "\n",
       "    .dataframe thead th {\n",
       "        text-align: right;\n",
       "    }\n",
       "</style>\n",
       "<table border=\"1\" class=\"dataframe\">\n",
       "  <thead>\n",
       "    <tr style=\"text-align: right;\">\n",
       "      <th></th>\n",
       "      <th>n</th>\n",
       "      <th>FAC2</th>\n",
       "      <th>MB</th>\n",
       "      <th>MGE</th>\n",
       "      <th>NMB</th>\n",
       "      <th>NMGE</th>\n",
       "      <th>RMSE</th>\n",
       "      <th>r</th>\n",
       "      <th>p_Value</th>\n",
       "      <th>COE</th>\n",
       "      <th>IOA</th>\n",
       "    </tr>\n",
       "  </thead>\n",
       "  <tbody>\n",
       "    <tr>\n",
       "      <th>0</th>\n",
       "      <td>5800</td>\n",
       "      <td>0.817931</td>\n",
       "      <td>0.957891</td>\n",
       "      <td>17.97746</td>\n",
       "      <td>0.017246</td>\n",
       "      <td>0.323672</td>\n",
       "      <td>29.77715</td>\n",
       "      <td>0.866515</td>\n",
       "      <td>0.0</td>\n",
       "      <td>0.562414</td>\n",
       "      <td>0.781207</td>\n",
       "    </tr>\n",
       "  </tbody>\n",
       "</table>\n",
       "</div>"
      ],
      "text/plain": [
       "      n      FAC2        MB       MGE       NMB      NMGE      RMSE         r  \\\n",
       "0  5800  0.817931  0.957891  17.97746  0.017246  0.323672  29.77715  0.866515   \n",
       "\n",
       "   p_Value       COE       IOA  \n",
       "0      0.0  0.562414  0.781207  "
      ]
     },
     "execution_count": 9,
     "metadata": {},
     "output_type": "execute_result"
    }
   ],
   "source": [
    "index_test.head()"
   ]
  },
  {
   "cell_type": "code",
   "execution_count": null,
   "id": "fc477950",
   "metadata": {},
   "outputs": [],
   "source": []
  }
 ],
 "metadata": {
  "kernelspec": {
   "display_name": "Python 3 (ipykernel)",
   "language": "python",
   "name": "python3"
  },
  "language_info": {
   "codemirror_mode": {
    "name": "ipython",
    "version": 3
   },
   "file_extension": ".py",
   "mimetype": "text/x-python",
   "name": "python",
   "nbconvert_exporter": "python",
   "pygments_lexer": "ipython3",
   "version": "3.8.16"
  }
 },
 "nbformat": 4,
 "nbformat_minor": 5
}
